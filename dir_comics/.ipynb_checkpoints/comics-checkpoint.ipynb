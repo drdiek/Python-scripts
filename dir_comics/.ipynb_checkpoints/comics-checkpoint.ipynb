{
 "cells": [
  {
   "cell_type": "markdown",
   "metadata": {},
   "source": [
    "# This program reads in the output from Collectorz.com and splits apart the tags into separate columns. The final result is written back to a file."
   ]
  },
  {
   "cell_type": "code",
   "execution_count": 17,
   "metadata": {},
   "outputs": [
    {
     "name": "stdout",
     "output_type": "stream",
     "text": [
      "0                   NaN\n",
      "1    Bag, Board, Box #2\n",
      "2                   Bag\n",
      "3                   NaN\n",
      "4                   NaN\n",
      "5                   NaN\n",
      "6                   NaN\n",
      "7                   NaN\n",
      "8                   NaN\n",
      "Name: Tags, dtype: object\n"
     ]
    }
   ],
   "source": [
    "import pandas as pd\n",
    "\n",
    "df = pd.read_csv('./data/export_comics.csv')\n",
    "\n",
    "print(df['Tags'])\n"
   ]
  },
  {
   "cell_type": "code",
   "execution_count": 18,
   "metadata": {},
   "outputs": [
    {
     "name": "stdout",
     "output_type": "stream",
     "text": [
      "                                      Series  Issue  \\\n",
      "0             The Amazing Spider-Man, Vol. 1     -1   \n",
      "1                           Firestar, Vol. 1      3   \n",
      "2                           Firestar, Vol. 1      4   \n",
      "3  Firestorm, the Nuclear Man, Vol. 1 (1978)      3   \n",
      "4  Firestorm, the Nuclear Man, Vol. 1 (1978)      4   \n",
      "5                              Flash, Vol. 1    242   \n",
      "6                              Flash, Vol. 1    266   \n",
      "7                              Flash, Vol. 1    275   \n",
      "8                              Flash, Vol. 1    279   \n",
      "\n",
      "                            Full Title       Publisher Cover Date  \\\n",
      "0      Where Have All the Heroes Gone?  Marvel Comics    Jul 1997   \n",
      "1                     This Lady Kills!  Marvel Comics    May 1986   \n",
      "2            Now Strikes The Assassin!  Marvel Comics    Jun 1986   \n",
      "3  \"Kiss not the Lips of Killer Frost\"      DC Comics    Jun 1978   \n",
      "4               When Laughs the Hyena!      DC Comics    Aug 1978   \n",
      "5     The Charge of the Electric Gang!      DC Comics    Jun 1976   \n",
      "6              Heat Wave Plays it Cool      DC Comics    Oct 1978   \n",
      "7                       The Last Dance      DC Comics    Jul 1979   \n",
      "8                         Death-Feast!      DC Comics    Nov 1979   \n",
      "\n",
      "     Added Date                Tags Bag Mylite Mylar Board Box  \n",
      "0  Jul 30, 2017                 NaN                             \n",
      "1  Jul 30, 2017  Bag, Board, Box #2                             \n",
      "2  Jul 30, 2017                 Bag                             \n",
      "3  Jul 30, 2017                 NaN                             \n",
      "4  Jul 30, 2017                 NaN                             \n",
      "5  Jul 30, 2017                 NaN                             \n",
      "6  Jul 30, 2017                 NaN                             \n",
      "7  Jul 30, 2017                 NaN                             \n",
      "8  Jul 30, 2017                 NaN                             \n"
     ]
    }
   ],
   "source": [
    "df['Bag'] = ''\n",
    "df['Mylite'] = ''\n",
    "df['Mylar'] = ''\n",
    "df['Board'] = ''\n",
    "df['Box'] = ''\n",
    "\n",
    "print(df)\n"
   ]
  },
  {
   "cell_type": "code",
   "execution_count": 14,
   "metadata": {},
   "outputs": [
    {
     "name": "stdout",
     "output_type": "stream",
     "text": [
      "                                      Series  Issue  \\\n",
      "0             The Amazing Spider-Man, Vol. 1     -1   \n",
      "1                           Firestar, Vol. 1      3   \n",
      "2                           Firestar, Vol. 1      4   \n",
      "3  Firestorm, the Nuclear Man, Vol. 1 (1978)      3   \n",
      "4  Firestorm, the Nuclear Man, Vol. 1 (1978)      4   \n",
      "5                              Flash, Vol. 1    242   \n",
      "6                              Flash, Vol. 1    266   \n",
      "7                              Flash, Vol. 1    275   \n",
      "8                              Flash, Vol. 1    279   \n",
      "\n",
      "                            Full Title       Publisher Cover Date  \\\n",
      "0      Where Have All the Heroes Gone?  Marvel Comics    Jul 1997   \n",
      "1                     This Lady Kills!  Marvel Comics    May 1986   \n",
      "2            Now Strikes The Assassin!  Marvel Comics    Jun 1986   \n",
      "3  \"Kiss not the Lips of Killer Frost\"      DC Comics    Jun 1978   \n",
      "4               When Laughs the Hyena!      DC Comics    Aug 1978   \n",
      "5     The Charge of the Electric Gang!      DC Comics    Jun 1976   \n",
      "6              Heat Wave Plays it Cool      DC Comics    Oct 1978   \n",
      "7                       The Last Dance      DC Comics    Jul 1979   \n",
      "8                         Death-Feast!      DC Comics    Nov 1979   \n",
      "\n",
      "     Added Date  Bag Mylite Mylar  Board     Box  \n",
      "0  Jul 30, 2017                                   \n",
      "1  Jul 30, 2017  Bag               Board  Box #2  \n",
      "2  Jul 30, 2017  Bag                              \n",
      "3  Jul 30, 2017                                   \n",
      "4  Jul 30, 2017                                   \n",
      "5  Jul 30, 2017                                   \n",
      "6  Jul 30, 2017                                   \n",
      "7  Jul 30, 2017                                   \n",
      "8  Jul 30, 2017                                   \n"
     ]
    }
   ],
   "source": [
    "for i in range(0, len(df)):\n",
    "\n",
    "    tags = df.iloc[i]['Tags']\n",
    "\n",
    "    if isinstance(tags, (int, float)): # NaN is of int/float type\n",
    "        pass\n",
    "#        print tags\n",
    "    else:\n",
    "        labels = tags.split(\", \")\n",
    "\n",
    "        for label in labels:\n",
    "            if (label == 'Bag'):\n",
    "                df.loc[i,'Bag'] = 'Bag'\n",
    "            elif (label == 'Mylite'):\n",
    "                df.loc[i,'Mylite'] = 'Mylite'\n",
    "            elif (label == 'Mylar'):\n",
    "                df.loc[i,'Mylar'] = 'Mylar'\n",
    "            elif (label == 'Board'):\n",
    "                df.loc[i,'Board'] = 'Board'\n",
    "            else: # (label == 'Box #?')\n",
    "                df.loc[i,'Box'] = label\n",
    "del df['Tags']\n",
    "print(df)"
   ]
  },
  {
   "cell_type": "code",
   "execution_count": 16,
   "metadata": {},
   "outputs": [],
   "source": [
    "df.to_csv('./output/comics.csv', index=False)\n"
   ]
  }
 ],
 "metadata": {
  "kernelspec": {
   "display_name": "Python 2",
   "language": "python",
   "name": "python2"
  },
  "language_info": {
   "codemirror_mode": {
    "name": "ipython",
    "version": 2
   },
   "file_extension": ".py",
   "mimetype": "text/x-python",
   "name": "python",
   "nbconvert_exporter": "python",
   "pygments_lexer": "ipython2",
   "version": "2.7.13"
  }
 },
 "nbformat": 4,
 "nbformat_minor": 2
}
